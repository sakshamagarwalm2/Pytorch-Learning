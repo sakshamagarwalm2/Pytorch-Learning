{
  "nbformat": 4,
  "nbformat_minor": 0,
  "metadata": {
    "colab": {
      "provenance": [],
      "collapsed_sections": [
        "LxlulDVw7iJB",
        "ndOV0lc-8Lr_"
      ],
      "gpuType": "T4"
    },
    "kernelspec": {
      "name": "python3",
      "display_name": "Python 3"
    },
    "language_info": {
      "name": "python"
    },
    "accelerator": "GPU"
  },
  "cells": [
    {
      "cell_type": "markdown",
      "source": [
        "#WorkFlow\n",
        "\n",
        "1. get data ready\n",
        "2. build a linear regression model\n",
        "3. pick a loss function and optimizer\n",
        "4. build a training loop\n",
        "5. evaluate ur model\n",
        "6. test model with a new data point\n",
        "7. save the model"
      ],
      "metadata": {
        "id": "RgDrxnp86_l9"
      }
    },
    {
      "cell_type": "markdown",
      "source": [
        "##Importing Moduels\n"
      ],
      "metadata": {
        "id": "LxlulDVw7iJB"
      }
    },
    {
      "cell_type": "code",
      "execution_count": 1,
      "metadata": {
        "id": "2qtY8F904WoF"
      },
      "outputs": [],
      "source": [
        "import torch\n",
        "import torch.nn as nn\n",
        "import numpy as np\n",
        "import matplotlib.pyplot as plt"
      ]
    },
    {
      "cell_type": "markdown",
      "source": [
        "##Get Data Ready"
      ],
      "metadata": {
        "id": "ndOV0lc-8Lr_"
      }
    },
    {
      "cell_type": "code",
      "source": [
        "x_train = np.array([[3.3],[4.4],[5.5],[6.71],[6.93],[4.168],[9.779],[6.182],\n",
        " [7.59],[2.167],[7.042],[10.791],[5.313],[7.997],[3.1]],dtype=np.float32)\n",
        "\n",
        "y_train = np.array([[1.7],[2.76],[2.09],[3.19],[1.694],[1.573],[3.366],[2.596],\n",
        " [2.53],[1.221],[2.827],[3.465],[1.65],[2.904],[1.3]],dtype=np.float32)"
      ],
      "metadata": {
        "id": "Z6i2lkER7ysC"
      },
      "execution_count": 2,
      "outputs": []
    },
    {
      "cell_type": "code",
      "source": [
        "x_train,y_train"
      ],
      "metadata": {
        "colab": {
          "base_uri": "https://localhost:8080/"
        },
        "id": "PeJn4COR95yh",
        "outputId": "7290728f-93d1-4883-805f-388cc3e706ee"
      },
      "execution_count": 3,
      "outputs": [
        {
          "output_type": "execute_result",
          "data": {
            "text/plain": [
              "(array([[ 3.3  ],\n",
              "        [ 4.4  ],\n",
              "        [ 5.5  ],\n",
              "        [ 6.71 ],\n",
              "        [ 6.93 ],\n",
              "        [ 4.168],\n",
              "        [ 9.779],\n",
              "        [ 6.182],\n",
              "        [ 7.59 ],\n",
              "        [ 2.167],\n",
              "        [ 7.042],\n",
              "        [10.791],\n",
              "        [ 5.313],\n",
              "        [ 7.997],\n",
              "        [ 3.1  ]], dtype=float32),\n",
              " array([[1.7  ],\n",
              "        [2.76 ],\n",
              "        [2.09 ],\n",
              "        [3.19 ],\n",
              "        [1.694],\n",
              "        [1.573],\n",
              "        [3.366],\n",
              "        [2.596],\n",
              "        [2.53 ],\n",
              "        [1.221],\n",
              "        [2.827],\n",
              "        [3.465],\n",
              "        [1.65 ],\n",
              "        [2.904],\n",
              "        [1.3  ]], dtype=float32))"
            ]
          },
          "metadata": {},
          "execution_count": 3
        }
      ]
    },
    {
      "cell_type": "code",
      "source": [
        "fig = plt.figure(figsize=(8,5))\n",
        "plt.plot(x_train,y_train,'ro',label='original data')\n",
        "plt.xlabel('x')\n",
        "plt.ylabel('y')\n",
        "plt.legend()\n",
        "plt.show()"
      ],
      "metadata": {
        "colab": {
          "base_uri": "https://localhost:8080/",
          "height": 0
        },
        "id": "vOAQtnI69_hw",
        "outputId": "d692e49d-8267-4491-b6f2-e62f57ed211e"
      },
      "execution_count": 4,
      "outputs": [
        {
          "output_type": "display_data",
          "data": {
            "text/plain": [
              "<Figure size 800x500 with 1 Axes>"
            ],
            "image/png": "[encoded data removed]"
          },
          "metadata": {}
        }
      ]
    },
    {
      "cell_type": "code",
      "source": [
        "x_train = torch.from_numpy(x_train)\n",
        "y_train = torch.from_numpy(y_train)"
      ],
      "metadata": {
        "id": "oATsxSIx-E3d"
      },
      "execution_count": 5,
      "outputs": []
    },
    {
      "cell_type": "code",
      "source": [
        "x_train,y_train"
      ],
      "metadata": {
        "colab": {
          "base_uri": "https://localhost:8080/"
        },
        "id": "iG1SeFDk-11j",
        "outputId": "62ef3f36-7202-4e43-b34f-7c1e98f52ebc"
      },
      "execution_count": 6,
      "outputs": [
        {
          "output_type": "execute_result",
          "data": {
            "text/plain": [
              "(tensor([[ 3.3000],\n",
              "         [ 4.4000],\n",
              "         [ 5.5000],\n",
              "         [ 6.7100],\n",
              "         [ 6.9300],\n",
              "         [ 4.1680],\n",
              "         [ 9.7790],\n",
              "         [ 6.1820],\n",
              "         [ 7.5900],\n",
              "         [ 2.1670],\n",
              "         [ 7.0420],\n",
              "         [10.7910],\n",
              "         [ 5.3130],\n",
              "         [ 7.9970],\n",
              "         [ 3.1000]]),\n",
              " tensor([[1.7000],\n",
              "         [2.7600],\n",
              "         [2.0900],\n",
              "         [3.1900],\n",
              "         [1.6940],\n",
              "         [1.5730],\n",
              "         [3.3660],\n",
              "         [2.5960],\n",
              "         [2.5300],\n",
              "         [1.2210],\n",
              "         [2.8270],\n",
              "         [3.4650],\n",
              "         [1.6500],\n",
              "         [2.9040],\n",
              "         [1.3000]]))"
            ]
          },
          "metadata": {},
          "execution_count": 6
        }
      ]
    },
    {
      "cell_type": "markdown",
      "source": [
        "##Build a Linear Regression Model"
      ],
      "metadata": {
        "id": "PzlTyT5a_AxY"
      }
    },
    {
      "cell_type": "markdown",
      "source": [
        "1. **nn.Module**:\n",
        "\n",
        "Base class for all neural network modules.\n",
        "\n",
        "Your models should also subclass this class.\n",
        "\n",
        "Modules can also contain other Modules, allowing to nest them in a tree structure.\n",
        "\n",
        "2. **Linear**:\n",
        "\n",
        "torch.nn.Linear(in_features, out_features, bias=True, device=None, dtype=None).\n",
        "This module supports TensorFloat32.\n"
      ],
      "metadata": {
        "id": "IxlSqXF2BUp1"
      }
    },
    {
      "cell_type": "code",
      "source": [
        "class LinearRegression(nn.Module):\n",
        "\n",
        "  def __init__(self):  # As per the example above, an __init__() call to the parent class must be made before assignment on the child.\n",
        "\n",
        "    super().__init__() # Inheriting the nn.Module and constructor of Module shoud be used\n",
        "    self.linear = nn.Linear(1,1) # Applies an affine linear transformation to the incoming data: y=xA+b\n",
        "\n",
        "  def forward(self,x):\n",
        "    return self.linear(x)"
      ],
      "metadata": {
        "id": "Tsaic43p-3q8"
      },
      "execution_count": 29,
      "outputs": []
    },
    {
      "cell_type": "code",
      "source": [
        "model = LinearRegression()"
      ],
      "metadata": {
        "id": "50N7sVhtAsIu"
      },
      "execution_count": 30,
      "outputs": []
    },
    {
      "cell_type": "code",
      "source": [
        "model"
      ],
      "metadata": {
        "colab": {
          "base_uri": "https://localhost:8080/"
        },
        "id": "21n91qzvBBlb",
        "outputId": "9784189a-a013-41a2-d5dc-d73c6aae1fad"
      },
      "execution_count": 31,
      "outputs": [
        {
          "output_type": "execute_result",
          "data": {
            "text/plain": [
              "LinearRegression(\n",
              "  (linear): Linear(in_features=1, out_features=1, bias=True)\n",
              ")"
            ]
          },
          "metadata": {},
          "execution_count": 31
        }
      ]
    },
    {
      "cell_type": "code",
      "source": [
        "model.state_dict()"
      ],
      "metadata": {
        "colab": {
          "base_uri": "https://localhost:8080/"
        },
        "id": "D-cB_1PuBCY-",
        "outputId": "a3a0158d-4f01-4104-b47c-0363b5e38d81"
      },
      "execution_count": 32,
      "outputs": [
        {
          "output_type": "execute_result",
          "data": {
            "text/plain": [
              "OrderedDict([('linear.weight', tensor([[-0.3376]])),\n",
              "             ('linear.bias', tensor([0.1174]))])"
            ]
          },
          "metadata": {},
          "execution_count": 32
        }
      ]
    },
    {
      "cell_type": "code",
      "source": [
        "list(model.parameters())"
      ],
      "metadata": {
        "colab": {
          "base_uri": "https://localhost:8080/"
        },
        "id": "xe_Kr6QKDZ3W",
        "outputId": "2b1125f6-2a52-4730-91cc-6c605a32b11f"
      },
      "execution_count": 33,
      "outputs": [
        {
          "output_type": "execute_result",
          "data": {
            "text/plain": [
              "[Parameter containing:\n",
              " tensor([[-0.3376]], requires_grad=True),\n",
              " Parameter containing:\n",
              " tensor([0.1174], requires_grad=True)]"
            ]
          },
          "metadata": {},
          "execution_count": 33
        }
      ]
    },
    {
      "cell_type": "code",
      "source": [
        "# lets see the line using matplotlib\n",
        "plt.plot(x_train,y_train,'ro',label='original data')\n",
        "plt.plot(x_train,model(x_train).detach().numpy(),label='predicted data')\n",
        "plt.xlabel('x')\n",
        "plt.ylabel('y')\n",
        "plt.legend()"
      ],
      "metadata": {
        "colab": {
          "base_uri": "https://localhost:8080/",
          "height": 466
        },
        "id": "eLLCtjI-nfRJ",
        "outputId": "003d5c4a-48d5-4a43-bf47-9008368979ce"
      },
      "execution_count": 34,
      "outputs": [
        {
          "output_type": "execute_result",
          "data": {
            "text/plain": [
              "<matplotlib.legend.Legend at 0x7dd5395c7ac0>"
            ]
          },
          "metadata": {},
          "execution_count": 34
        },
        {
          "output_type": "display_data",
          "data": {
            "text/plain": [
              "<Figure size 640x480 with 1 Axes>"
            ],
            "image/png": "[encoded data removed]"
          },
          "metadata": {}
        }
      ]
    },
    {
      "cell_type": "markdown",
      "source": [
        "##Pick a loss function and optimizer"
      ],
      "metadata": {
        "id": "geNL25elJvsW"
      }
    },
    {
      "cell_type": "code",
      "source": [
        "criterion = nn.MSELoss()\n",
        "optimizer = torch.optim.SGD(model.parameters(),lr=1e-4) #0.0001"
      ],
      "metadata": {
        "id": "zvXGEGIFJmaF"
      },
      "execution_count": 35,
      "outputs": []
    },
    {
      "cell_type": "markdown",
      "source": [
        "##Build a Training loop"
      ],
      "metadata": {
        "id": "5jRe-NPLmBse"
      }
    },
    {
      "cell_type": "code",
      "source": [
        "# number of epochs we will take\n",
        "num_epochs = 1000"
      ],
      "metadata": {
        "id": "HwT27eMWmFOI"
      },
      "execution_count": 36,
      "outputs": []
    },
    {
      "cell_type": "code",
      "source": [
        "for epoch in range(num_epochs):\n",
        "\n",
        "  # to initiate training\n",
        "  model.train()\n",
        "  y_pred = model(x_train) #forward pass\n",
        "\n",
        "  # to calculate loss\n",
        "  loss = criterion(y_pred,y_train)\n",
        "  optimizer.zero_grad()\n",
        "\n",
        "  # back prapogation\n",
        "  loss.backward()\n",
        "  optimizer.step()\n",
        "\n",
        "  if (epoch+1)%20 == 0:\n",
        "    print(f'epoch: {epoch+1} / {num_epochs}, loss = {loss.item():.4f}')"
      ],
      "metadata": {
        "colab": {
          "base_uri": "https://localhost:8080/"
        },
        "id": "6sr4-AksmOLq",
        "outputId": "9eb05370-ece5-4657-da0c-6719ad4ae3b2"
      },
      "execution_count": 40,
      "outputs": [
        {
          "output_type": "stream",
          "name": "stdout",
          "text": [
            "epoch: 20 / 1000, loss = 0.2043\n",
            "epoch: 40 / 1000, loss = 0.2043\n",
            "epoch: 60 / 1000, loss = 0.2042\n",
            "epoch: 80 / 1000, loss = 0.2042\n",
            "epoch: 100 / 1000, loss = 0.2041\n",
            "epoch: 120 / 1000, loss = 0.2041\n",
            "epoch: 140 / 1000, loss = 0.2041\n",
            "epoch: 160 / 1000, loss = 0.2040\n",
            "epoch: 180 / 1000, loss = 0.2040\n",
            "epoch: 200 / 1000, loss = 0.2040\n",
            "epoch: 220 / 1000, loss = 0.2039\n",
            "epoch: 240 / 1000, loss = 0.2039\n",
            "epoch: 260 / 1000, loss = 0.2039\n",
            "epoch: 280 / 1000, loss = 0.2038\n",
            "epoch: 300 / 1000, loss = 0.2038\n",
            "epoch: 320 / 1000, loss = 0.2038\n",
            "epoch: 340 / 1000, loss = 0.2037\n",
            "epoch: 360 / 1000, loss = 0.2037\n",
            "epoch: 380 / 1000, loss = 0.2036\n",
            "epoch: 400 / 1000, loss = 0.2036\n",
            "epoch: 420 / 1000, loss = 0.2036\n",
            "epoch: 440 / 1000, loss = 0.2035\n",
            "epoch: 460 / 1000, loss = 0.2035\n",
            "epoch: 480 / 1000, loss = 0.2035\n",
            "epoch: 500 / 1000, loss = 0.2034\n",
            "epoch: 520 / 1000, loss = 0.2034\n",
            "epoch: 540 / 1000, loss = 0.2034\n",
            "epoch: 560 / 1000, loss = 0.2033\n",
            "epoch: 580 / 1000, loss = 0.2033\n",
            "epoch: 600 / 1000, loss = 0.2033\n",
            "epoch: 620 / 1000, loss = 0.2032\n",
            "epoch: 640 / 1000, loss = 0.2032\n",
            "epoch: 660 / 1000, loss = 0.2032\n",
            "epoch: 680 / 1000, loss = 0.2031\n",
            "epoch: 700 / 1000, loss = 0.2031\n",
            "epoch: 720 / 1000, loss = 0.2030\n",
            "epoch: 740 / 1000, loss = 0.2030\n",
            "epoch: 760 / 1000, loss = 0.2030\n",
            "epoch: 780 / 1000, loss = 0.2029\n",
            "epoch: 800 / 1000, loss = 0.2029\n",
            "epoch: 820 / 1000, loss = 0.2029\n",
            "epoch: 840 / 1000, loss = 0.2028\n",
            "epoch: 860 / 1000, loss = 0.2028\n",
            "epoch: 880 / 1000, loss = 0.2028\n",
            "epoch: 900 / 1000, loss = 0.2027\n",
            "epoch: 920 / 1000, loss = 0.2027\n",
            "epoch: 940 / 1000, loss = 0.2027\n",
            "epoch: 960 / 1000, loss = 0.2026\n",
            "epoch: 980 / 1000, loss = 0.2026\n",
            "epoch: 1000 / 1000, loss = 0.2026\n"
          ]
        }
      ]
    },
    {
      "cell_type": "code",
      "source": [
        "model.state_dict()"
      ],
      "metadata": {
        "colab": {
          "base_uri": "https://localhost:8080/"
        },
        "id": "7n_1WPXKm52F",
        "outputId": "69520e8c-216a-4c61-8a57-b5762babc778"
      },
      "execution_count": 41,
      "outputs": [
        {
          "output_type": "execute_result",
          "data": {
            "text/plain": [
              "OrderedDict([('linear.weight', tensor([[0.3328]])),\n",
              "             ('linear.bias', tensor([0.2410]))])"
            ]
          },
          "metadata": {},
          "execution_count": 41
        }
      ]
    },
    {
      "cell_type": "code",
      "source": [
        "# lets see the line using matplotlib\n",
        "plt.plot(x_train,y_train,'ro',label='original data')\n",
        "plt.plot(x_train,model(x_train).detach().numpy(),label='predicted data')\n",
        "plt.xlabel('x')\n",
        "plt.ylabel('y')\n",
        "plt.legend()"
      ],
      "metadata": {
        "colab": {
          "base_uri": "https://localhost:8080/",
          "height": 466
        },
        "id": "wn7z8kaxnEQ4",
        "outputId": "2bc829f8-74fa-4447-9be8-833ca4990ab2"
      },
      "execution_count": 42,
      "outputs": [
        {
          "output_type": "execute_result",
          "data": {
            "text/plain": [
              "<matplotlib.legend.Legend at 0x7dd5382c6c50>"
            ]
          },
          "metadata": {},
          "execution_count": 42
        },
        {
          "output_type": "display_data",
          "data": {
            "text/plain": [
              "<Figure size 640x480 with 1 Axes>"
            ],
            "image/png": "[encoded data removed]"
          },
          "metadata": {}
        }
      ]
    },
    {
      "cell_type": "markdown",
      "source": [
        "##Evaluate the Model"
      ],
      "metadata": {
        "id": "i3f_ydjHpx4h"
      }
    },
    {
      "cell_type": "code",
      "source": [
        "model.eval()\n",
        "with torch.no_grad():\n",
        "  predicted = model(x_train)\n",
        "predicted.data.numpy()"
      ],
      "metadata": {
        "colab": {
          "base_uri": "https://localhost:8080/"
        },
        "id": "6wk7d8hynrdY",
        "outputId": "c8f66eea-6193-4494-ae4a-0c6c8f47a4a6"
      },
      "execution_count": 43,
      "outputs": [
        {
          "output_type": "execute_result",
          "data": {
            "text/plain": [
              "array([[1.3392806],\n",
              "       [1.705363 ],\n",
              "       [2.0714452],\n",
              "       [2.4741359],\n",
              "       [2.5473523],\n",
              "       [1.628153 ],\n",
              "       [3.4955056],\n",
              "       [2.2984164],\n",
              "       [2.7670016],\n",
              "       [0.9622159],\n",
              "       [2.584626 ],\n",
              "       [3.8323011],\n",
              "       [2.0092113],\n",
              "       [2.9024522],\n",
              "       [1.2727202]], dtype=float32)"
            ]
          },
          "metadata": {},
          "execution_count": 43
        }
      ]
    }
  ]
}